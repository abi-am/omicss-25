{
 "cells": [
  {
   "cell_type": "markdown",
   "id": "42fd7110",
   "metadata": {},
   "source": [
    "# K-means Clustering Exercises\n",
    "\n",
    "In this notebook, you'll implement the first two core functions of the K-means algorithm:\n",
    "- **Finding closest centroids**\n",
    "- **Computing centroid means**"
   ]
  },
  {
   "cell_type": "code",
   "execution_count": null,
   "id": "2803924c",
   "metadata": {},
   "outputs": [],
   "source": [
    "import numpy as np\n",
    "import matplotlib.pyplot as plt\n",
    "from utils import *\n",
    "\n",
    "%matplotlib inline"
   ]
  },
  {
   "cell_type": "markdown",
   "id": "e5de0825",
   "metadata": {},
   "source": [
    "<a name=\"1.1\"></a>\n",
    "### 1.1 Finding closest centroids\n",
    "\n",
    "In the “cluster assignment” phase of the K-means algorithm, the\n",
    "algorithm assigns every training example $x^{(i)}$ to its closest\n",
    "centroid, given the current positions of centroids. \n",
    "\n",
    "<a name=\"ex01\"></a>\n",
    "### Exercise 1\n",
    "\n",
    "Your task is to complete the code in `find_closest_centroids`.  \n",
    "* This function takes the data matrix `X` and the locations of all\n",
    "  centroids inside `centroids`.  \n",
    "* It should output a one-dimensional array `idx` containing the index\n",
    "  of the centroid closest to each example.  \n",
    "* Specifically, for every example $x^{(i)}$ we set\n",
    "  $$c^{(i)} := \u0007rg\\min_j \\|x^{(i)} - \\mu_j\\|^2,$$\n",
    "  where $\\mu_j$ is the position of the $j$-th centroid."
   ]
  },
  {
   "cell_type": "code",
   "execution_count": null,
   "id": "fbb0fdea",
   "metadata": {},
   "outputs": [],
   "source": [
    "# UNQ_C1\n",
    "# GRADED FUNCTION: find_closest_centroids\n",
    "\n",
    "def find_closest_centroids(X, centroids):\n",
    "    \"\"\"\n",
    "    Computes the centroid memberships for every example\n",
    "\n",
    "    Args:\n",
    "        X (ndarray): (m, n) Input values      \n",
    "        centroids (ndarray): (K, n) centroids\n",
    "\n",
    "    Returns:\n",
    "        idx (array_like): (m,) closest centroids\n",
    "    \"\"\"\n",
    "    # Number of examples\n",
    "    m = X.shape[0]\n",
    "    # You need to return the following variable correctly\n",
    "    idx = np.zeros(m, dtype=int)\n",
    "\n",
    "    ### START CODE HERE ###\n",
    "    # For each example, compute its closest centroid and store the index in idx[i]\n",
    "    pass\n",
    "    ### END CODE HERE ###\n",
    "\n",
    "    return idx"
   ]
  },
  {
   "cell_type": "code",
   "execution_count": null,
   "id": "d7c5cd30",
   "metadata": {},
   "outputs": [],
   "source": [
    "# Test your implementation of find_closest_centroids\n",
    "initial_centroids = np.array([[3,3], [6,2], [8,5]])\n",
    "idx = find_closest_centroids(X, initial_centroids)\n",
    "print(\"First three elements in idx are:\", idx[:3])\n",
    "\n",
    "from public_tests import *\n",
    "find_closest_centroids_test(find_closest_centroids)"
   ]
  },
  {
   "cell_type": "markdown",
   "id": "8d42da90",
   "metadata": {},
   "source": [
    "<a name=\"1.2\"></a>\n",
    "### 1.2 Computing centroid means\n",
    "\n",
    "Given assignments of every point to a centroid, the second phase of the\n",
    "algorithm recomputes, for each centroid, the mean of the points that\n",
    "were assigned to it.  \n",
    "\n",
    "<a name=\"ex02\"></a>\n",
    "### Exercise 2\n",
    "\n",
    "Please complete the `compute_centroids` function to recompute the value \n",
    "for each centroid $\\mu_k$ using:\n",
    "$$\n",
    "\\mu_k = \f",
    "rac{1}{|C_k|} \\sum_{i \\in C_k} x^{(i)},\n",
    "$$\n",
    "where $C_k$ is the set of examples assigned to centroid $k$."
   ]
  },
  {
   "cell_type": "code",
   "execution_count": null,
   "id": "ca1e0d2d",
   "metadata": {},
   "outputs": [],
   "source": [
    "# UNQ_C2\n",
    "# GRADED FUNCTION: compute_centroids\n",
    "\n",
    "def compute_centroids(X, idx, K):\n",
    "    \"\"\"\n",
    "    Returns the new centroids by computing the means of the \n",
    "    data points assigned to each centroid.\n",
    "\n",
    "    Args:\n",
    "        X (ndarray):   (m, n) Data points\n",
    "        idx (ndarray): (m,) Array containing index of closest centroid for each example\n",
    "        K (int):       number of centroids\n",
    "\n",
    "    Returns:\n",
    "        centroids (ndarray): (K, n) Updated centroids\n",
    "    \"\"\"\n",
    "    # Useful variables\n",
    "    m, n = X.shape\n",
    "    # You need to return the following variable correctly\n",
    "    centroids = np.zeros((K, n))\n",
    "\n",
    "    ### START CODE HERE ###\n",
    "    # For each centroid k, compute the mean of all points assigned to k\n",
    "    pass\n",
    "    ### END CODE HERE ###\n",
    "\n",
    "    return centroids"
   ]
  },
  {
   "cell_type": "code",
   "execution_count": null,
   "id": "6ab8acda",
   "metadata": {},
   "outputs": [],
   "source": [
    "# Test your implementation of compute_centroids\n",
    "K = 3\n",
    "centroids = compute_centroids(X, idx, K)\n",
    "print(\"The centroids are:\", centroids)\n",
    "\n",
    "from public_tests import *\n",
    "compute_centroids_test(compute_centroids)"
   ]
  }
 ],
 "metadata": {
  "kernelspec": {
   "display_name": "Python 3 (ipykernel)",
   "language": "python",
   "name": "python3"
  },
  "language_info": {
   "codemirror_mode": {
    "name": "ipython",
    "version": 3
   },
   "file_extension": ".py",
   "mimetype": "text/x-python",
   "name": "python",
   "nbconvert_exporter": "python",
   "pygments_lexer": "ipython3",
   "version": "3.11.4"
  }
 },
 "nbformat": 4,
 "nbformat_minor": 5
}
